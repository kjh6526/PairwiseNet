{
 "cells": [
  {
   "cell_type": "code",
   "execution_count": null,
   "metadata": {},
   "outputs": [],
   "source": [
    "import numpy as np\n",
    "import pandas as pd\n",
    "import torch\n",
    "import sys, os, copy\n",
    "from tqdm.auto import tqdm, trange\n",
    "from omegaconf import OmegaConf\n",
    "import matplotlib.pyplot as plt\n",
    "import warnings, time\n",
    "warnings.simplefilter(\"ignore\")\n",
    "torch.set_printoptions(precision=3, sci_mode=False)\n",
    "\n",
    "from datetime import datetime\n",
    "\n",
    "import pybullet as p\n",
    "\n",
    "from IPython.display import display\n",
    "import plotly.graph_objects as go\n",
    "import plotly.express as px\n",
    "import plotly.io as pio\n",
    "import plotly.subplots as sp\n",
    "plotly_layout = dict(margin=dict(l=20, r=20, t=20, b=20))\n",
    "\n",
    "from torch.autograd.functional import jacobian\n",
    "\n",
    "from training.model import get_model\n",
    "from training.loader import get_dataloader\n",
    "from envs import get_env\n",
    "\n",
    "from training.model.PairwiseNet import Pairwise2Global\n",
    "\n",
    "from utils.cubic_spline import cubic_spline_curve_manual\n",
    "from planning.rrt import RRTConnectplanar\n",
    "from planning.optimize import TrajectoryOptimizer\n",
    "\n",
    "device = 'cuda:0' if torch.cuda.is_available() else 'cpu'"
   ]
  },
  {
   "cell_type": "code",
   "execution_count": null,
   "metadata": {},
   "outputs": [],
   "source": [
    "def get_path(start, end, N):\n",
    "    assert len(start) == len(end), 'dim mismatch'\n",
    "    dim = len(start)\n",
    "\n",
    "    order = 4\n",
    "    A = torch.tensor([[1, 0, 0, 0], \n",
    "                        [1, N, N**2, N**3], \n",
    "                        [0, 1, 0, 0], \n",
    "                        [0, 1, 2*N, 3*N**2]], dtype=torch.float)\n",
    "\n",
    "    b = torch.zeros(4, dim)\n",
    "    b[0, :] = start\n",
    "    b[1, :] = end\n",
    "\n",
    "    coef = torch.linalg.inv(A) @ b\n",
    "\n",
    "    X = torch.tensor([[1, t, t**2, t**3] for t in range(0, N)], dtype=torch.float)\n",
    "    path = X @ coef\n",
    "    \n",
    "    return path"
   ]
  },
  {
   "cell_type": "code",
   "execution_count": null,
   "metadata": {},
   "outputs": [],
   "source": [
    "MODEL_PATH = 'results/20240704-192301_fourarm_Pairwise'\n",
    "\n",
    "cfg, best_model = None, None\n",
    "for file in os.listdir(MODEL_PATH):\n",
    "    if file.endswith('yml'):\n",
    "        cfg = OmegaConf.load(os.path.join(MODEL_PATH, file))\n",
    "    if file.endswith('best_safe_FPR.pkl'):\n",
    "        best_model = torch.load(os.path.join(MODEL_PATH, file))\n",
    "\n",
    "assert cfg is not None, 'cfg file does not exist.'\n",
    "assert best_model is not None, 'best_model does not exist.'\n",
    "\n",
    "model = get_model(cfg.model).to(device)\n",
    "model.load_state_dict(best_model['model_state'])"
   ]
  },
  {
   "cell_type": "code",
   "execution_count": null,
   "metadata": {},
   "outputs": [],
   "source": [
    "env_cfg = OmegaConf.load('configs/envs/env_config_4arm.yml')\n",
    "env = get_env(env_cfg, device=device, GUI=True)"
   ]
  },
  {
   "cell_type": "code",
   "execution_count": null,
   "metadata": {},
   "outputs": [],
   "source": [
    "checker = Pairwise2Global(model, cfg, env)\n",
    "col_thr = 0.0"
   ]
  },
  {
   "cell_type": "code",
   "execution_count": null,
   "metadata": {},
   "outputs": [],
   "source": [
    "# # Traj 1\n",
    "# q_start = torch.tensor([0.0, -0.148, 0.0, -1.271, 0.0, 2.304, 0.0, \n",
    "#                         0.0, -0.186, 0.0, -1.792, 0.0, 1.867, 0.0, \n",
    "#                         0.0, -0.278, 0.0, -2.440, 0.0, 2.562, 0.0, \n",
    "#                         0.0,  0.186, 0.0, -2.550, 0.0, 2.958, 0.0,])\n",
    "# q_end = torch.tensor([0.0,  0.186, 0.0, -2.550, 0.0, 2.958, 0.0, \n",
    "#                         0.0, -0.278, 0.0, -2.440, 0.0, 2.562, 0.0, \n",
    "#                         0.0, -0.186, 0.0, -1.792, 0.0, 1.867, 0.0, \n",
    "#                         0.0, -0.148, 0.0, -1.271, 0.0, 2.304, 0.0,])\n",
    "\n",
    "# # Traj 2\n",
    "# q_start = torch.tensor([0.244, 0.445, 0.0, -1.839, 0.0, 2.343, 0.0, \n",
    "#                         0.244, 0.445, 0.0, -1.839, 0.0, 2.343, 0.0, \n",
    "#                         0.335, 0.148, 0.0, -1.239, 0.0, 2.720, 0.0, \n",
    "#                         0.335, 0.148, 0.0, -1.239, 0.0, 2.720, 0.0,])\n",
    "# q_end = torch.tensor([0.335, 0.148, 0.0, -1.239, 0.0, 2.720, 0.0, \n",
    "#                         0.335, 0.148, 0.0, -1.239, 0.0, 2.720, 0.0, \n",
    "#                         0.244, 0.445, 0.0, -1.839, 0.0, 2.343, 0.0, \n",
    "#                         0.244, 0.445, 0.0, -1.839, 0.0, 2.343, 0.0,])\n",
    "\n",
    "# Traj 3\n",
    "q_start = torch.tensor([-1.250, 0.724, 0.945, -2.187, 0.793, 1.669, 0.0, \n",
    "                        -1.250, 0.724, 0.945, -2.187, 0.793, 1.669, 0.0, \n",
    "                        0.457, 0.130, 0.0, -1.176, -1.464, 1.094, 0.0, \n",
    "                        0.457, 0.130, 0.0, -1.176, -1.464, 1.094, 0.0,])\n",
    "q_end = torch.tensor([0.457, 0.130, 0.0, -1.176, -1.464, 1.094, 0.0, \n",
    "                      0.457, 0.130, 0.0, -1.176, -1.464, 1.094, 0.0, \n",
    "                      -1.250, 0.724, 0.945, -2.187, 0.793, 1.669, 0.0, \n",
    "                      -1.250, 0.724, 0.945, -2.187, 0.793, 1.669, 0.0,])\n",
    "\n",
    "print(f'q_start : GT = {env.calculate_min_distance(q_start.unsqueeze(0)).squeeze().item():.4f} | est = {checker(q_start.unsqueeze(0).to(device)).squeeze().item():.4f}')\n",
    "print(f'q_end   : GT = {env.calculate_min_distance(q_end.unsqueeze(0)).squeeze().item():.4f} | est = {checker(q_end.unsqueeze(0).to(device)).squeeze().item():.4f}')"
   ]
  },
  {
   "cell_type": "code",
   "execution_count": null,
   "metadata": {},
   "outputs": [],
   "source": [
    "traj = get_path(q_start, q_end, 100).to(device)"
   ]
  },
  {
   "cell_type": "code",
   "execution_count": null,
   "metadata": {},
   "outputs": [],
   "source": [
    "curve_order = 10\n",
    "traj = traj[np.linspace(0, len(traj)-1, curve_order).astype(int)]\n",
    "curve = cubic_spline_curve_manual(traj, device)"
   ]
  },
  {
   "cell_type": "code",
   "execution_count": null,
   "metadata": {},
   "outputs": [],
   "source": [
    "to_cfg = {\n",
    "    'length': 'joint',\n",
    "    'num_sample': 10000,\n",
    "    'mu_g': 10,\n",
    "    'mu_v': 1,\n",
    "    'col_thr': (col_thr, 'lower'),\n",
    "}\n",
    "\n",
    "optimizer = TrajectoryOptimizer(to_cfg)\n",
    "results, curve, min_loss, best_curve = optimizer.optimize(curve, checker, device=device, env=env, iteration=3000, pbar=True)"
   ]
  }
 ],
 "metadata": {
  "kernelspec": {
   "display_name": "PairwiseNet",
   "language": "python",
   "name": "python3"
  },
  "language_info": {
   "codemirror_mode": {
    "name": "ipython",
    "version": 3
   },
   "file_extension": ".py",
   "mimetype": "text/x-python",
   "name": "python",
   "nbconvert_exporter": "python",
   "pygments_lexer": "ipython3",
   "version": "3.9.17"
  }
 },
 "nbformat": 4,
 "nbformat_minor": 2
}
